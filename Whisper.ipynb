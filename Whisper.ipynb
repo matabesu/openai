{
  "nbformat": 4,
  "nbformat_minor": 0,
  "metadata": {
    "colab": {
      "provenance": [],
      "gpuType": "T4",
      "authorship_tag": "ABX9TyOd1zU4Am1UVfRz1MntJsNS",
      "include_colab_link": true
    },
    "kernelspec": {
      "name": "python3",
      "display_name": "Python 3"
    },
    "language_info": {
      "name": "python"
    },
    "accelerator": "GPU"
  },
  "cells": [
    {
      "cell_type": "markdown",
      "metadata": {
        "id": "view-in-github",
        "colab_type": "text"
      },
      "source": [
        "<a href=\"https://colab.research.google.com/github/matabesu/openai/blob/main/Whisper.ipynb\" target=\"_parent\"><img src=\"https://colab.research.google.com/assets/colab-badge.svg\" alt=\"Open In Colab\"/></a>"
      ]
    },
    {
      "cell_type": "code",
      "execution_count": null,
      "metadata": {
        "id": "w9UNfkZERCO_"
      },
      "outputs": [],
      "source": [
        "!nvidia-smi"
      ]
    },
    {
      "cell_type": "code",
      "source": [
        "# Install packages\n",
        "!pip install git+https://github.com/openai/whisper.git\n"
      ],
      "metadata": {
        "id": "r0OJE1fjRdpA"
      },
      "execution_count": null,
      "outputs": []
    },
    {
      "cell_type": "code",
      "source": [
        "import os\n",
        "\n",
        "# Add folders\n",
        "checkContentFolder = os.path.exists(\"content\")\n",
        "checkDownLoadFolder = os.path.exists(\"download\")\n",
        "if not checkContentFolder:\n",
        "  os.mkdir(\"content\")\n",
        "if not checkDownLoadFolder:\n",
        "  os.mkdir(\"download\")\n",
        "  "
      ],
      "metadata": {
        "id": "aC0cgrzxRrl-"
      },
      "execution_count": null,
      "outputs": []
    },
    {
      "cell_type": "code",
      "source": [
        "import whisper\n",
        "\n",
        "fileName = \"question.mp3\"\n",
        "lang = \"ja\"\n",
        "model = whisper.load_model(\"base\")\n",
        "\n",
        "# Load audio\n",
        "audio = whisper.load_audio(f\"content/{fileName}\")\n",
        "audio = whisper.pad_or_trim(audio)\n",
        "\n",
        "mel = whisper.log_mel_spectrogram(audio).to(model.device)\n",
        "\n",
        "# Output the recognized text\n",
        "options = whisper.DecodingOptions(language=lang, without_timestamps=True)\n",
        "result = whisper.decode(model, mel, options)\n",
        "print(result.text)\n",
        "\n",
        "# Write into a text file\n",
        "with open(f\"download/{fileName}.txt\", \"w\") as f:\n",
        "  f.write(f\"▼ Transcription of {fileName}\\n\")\n",
        "  f.write(result.text)\n"
      ],
      "metadata": {
        "id": "tvmcqLrWSMg-"
      },
      "execution_count": null,
      "outputs": []
    },
    {
      "cell_type": "code",
      "source": [
        "import whisper\n",
        "\n",
        "fileName = \"muddy_test.wav\"\n",
        "lang = \"ja\"\n",
        "model = whisper.load_model(\"base\")\n",
        "\n",
        "# Load audio\n",
        "audio = whisper.load_audio(f\"content/{fileName}\")\n",
        "audio = whisper.pad_or_trim(audio)\n",
        "\n",
        "mel = whisper.log_mel_spectrogram(audio).to(model.device)\n",
        "\n",
        "# Output the recognized text\n",
        "options = whisper.DecodingOptions(language=lang, without_timestamps=True)\n",
        "result = whisper.decode(model, mel, options)\n",
        "print(result.text)\n",
        "\n",
        "# Write into a text file\n",
        "with open(f\"download/{fileName}.txt\", \"w\") as f:\n",
        "  f.write(f\"▼ Transcription of {fileName}\\n\")\n",
        "  f.write(result.text)\n",
        "  "
      ],
      "metadata": {
        "id": "CmMezAB4S6f3"
      },
      "execution_count": null,
      "outputs": []
    },
    {
      "cell_type": "code",
      "source": [
        "from google.colab import files\n",
        "!zip -r download.zip download\n",
        "files.download(\"download.zip\")"
      ],
      "metadata": {
        "colab": {
          "base_uri": "https://localhost:8080/",
          "height": 71
        },
        "id": "ZmO2ruQ9SgHB",
        "outputId": "1bbbb357-c027-4e38-a8fc-b35c605c8d90"
      },
      "execution_count": null,
      "outputs": [
        {
          "output_type": "stream",
          "name": "stdout",
          "text": [
            "updating: download/ (stored 0%)\n",
            "updating: download/question.mp3.txt (deflated 36%)\n",
            "  adding: download/muddy_test.wav.txt (deflated 41%)\n"
          ]
        },
        {
          "output_type": "display_data",
          "data": {
            "text/plain": [
              "<IPython.core.display.Javascript object>"
            ],
            "application/javascript": [
              "\n",
              "    async function download(id, filename, size) {\n",
              "      if (!google.colab.kernel.accessAllowed) {\n",
              "        return;\n",
              "      }\n",
              "      const div = document.createElement('div');\n",
              "      const label = document.createElement('label');\n",
              "      label.textContent = `Downloading \"${filename}\": `;\n",
              "      div.appendChild(label);\n",
              "      const progress = document.createElement('progress');\n",
              "      progress.max = size;\n",
              "      div.appendChild(progress);\n",
              "      document.body.appendChild(div);\n",
              "\n",
              "      const buffers = [];\n",
              "      let downloaded = 0;\n",
              "\n",
              "      const channel = await google.colab.kernel.comms.open(id);\n",
              "      // Send a message to notify the kernel that we're ready.\n",
              "      channel.send({})\n",
              "\n",
              "      for await (const message of channel.messages) {\n",
              "        // Send a message to notify the kernel that we're ready.\n",
              "        channel.send({})\n",
              "        if (message.buffers) {\n",
              "          for (const buffer of message.buffers) {\n",
              "            buffers.push(buffer);\n",
              "            downloaded += buffer.byteLength;\n",
              "            progress.value = downloaded;\n",
              "          }\n",
              "        }\n",
              "      }\n",
              "      const blob = new Blob(buffers, {type: 'application/binary'});\n",
              "      const a = document.createElement('a');\n",
              "      a.href = window.URL.createObjectURL(blob);\n",
              "      a.download = filename;\n",
              "      div.appendChild(a);\n",
              "      a.click();\n",
              "      div.remove();\n",
              "    }\n",
              "  "
            ]
          },
          "metadata": {}
        },
        {
          "output_type": "display_data",
          "data": {
            "text/plain": [
              "<IPython.core.display.Javascript object>"
            ],
            "application/javascript": [
              "download(\"download_a3b3adeb-b666-4a64-aef4-3aec876707db\", \"download.zip\", 1086)"
            ]
          },
          "metadata": {}
        }
      ]
    },
    {
      "cell_type": "code",
      "source": [
        "import whisper\n",
        "model = whisper.load_model(\"base\")"
      ],
      "metadata": {
        "id": "pdEMbcajUH07"
      },
      "execution_count": null,
      "outputs": []
    },
    {
      "cell_type": "code",
      "source": [
        "model.device"
      ],
      "metadata": {
        "colab": {
          "base_uri": "https://localhost:8080/"
        },
        "id": "cWf5vknwUMBb",
        "outputId": "72fd675a-0e26-45b1-c2ab-8bf58063217a"
      },
      "execution_count": null,
      "outputs": [
        {
          "output_type": "execute_result",
          "data": {
            "text/plain": [
              "device(type='cuda', index=0)"
            ]
          },
          "metadata": {},
          "execution_count": 11
        }
      ]
    },
    {
      "cell_type": "code",
      "source": [
        "from IPython.display import Audio\n",
        "\n",
        "Audio(\"content/question.mp3\")"
      ],
      "metadata": {
        "id": "q4QjLzBwUPl8"
      },
      "execution_count": null,
      "outputs": []
    },
    {
      "cell_type": "code",
      "source": [
        "# load audio and pad/trim it to fit 30 seconds\n",
        "audio = whisper.load_audio(\"content/question.mp3\")\n",
        "audio = whisper.pad_or_trim(audio)\n",
        "\n",
        "# make log-Mel spectrogram and move to the same device as the model\n",
        "mel = whisper.log_mel_spectrogram(audio).to(model.device)\n",
        "\n",
        "# detect the spoken language\n",
        "_, probs = model.detect_language(mel)\n",
        "print(f\"Detected language: {max(probs, key=probs.get)}\")\n",
        "\n",
        "# decode the audio\n",
        "options = whisper.DecodingOptions()\n",
        "result = whisper.decode(model, mel, options)\n",
        "\n",
        "# print the recognized text\n",
        "print(result.text)"
      ],
      "metadata": {
        "id": "IQp1yJ4fUqzP"
      },
      "execution_count": null,
      "outputs": []
    },
    {
      "cell_type": "code",
      "source": [
        "! pip install git+https://github.com/openai/whisper.git"
      ],
      "metadata": {
        "id": "r_lkgOIoTU2H"
      },
      "execution_count": null,
      "outputs": []
    },
    {
      "cell_type": "code",
      "source": [
        "import whisper\n",
        "model = whisper.load_model(\"base\")"
      ],
      "metadata": {
        "id": "GJph-COsTcpC"
      },
      "execution_count": null,
      "outputs": []
    },
    {
      "cell_type": "code",
      "source": [
        "model.device"
      ],
      "metadata": {
        "id": "JwLzBDzuTjjg"
      },
      "execution_count": null,
      "outputs": []
    },
    {
      "cell_type": "code",
      "source": [
        "import os\n",
        "\n",
        "# Add folders\n",
        "checkContentFolder = os.path.exists(\"content\")\n",
        "checkDownLoadFolder = os.path.exists(\"download\")\n",
        "if not checkContentFolder:\n",
        "  os.mkdir(\"content\")\n",
        "if not checkDownLoadFolder:\n",
        "  os.mkdir(\"download\")"
      ],
      "metadata": {
        "id": "E-2O9XTMSbfa"
      },
      "execution_count": null,
      "outputs": []
    },
    {
      "cell_type": "code",
      "source": [
        "# 長時間用音声解析\n",
        "fileName = \"test.mp3\"\n",
        "\n",
        "# load audio and pad/trim it to fit 30 seconds\n",
        "audio = whisper.load_audio(f\"content/{fileName}\")\n",
        "\n",
        "outputTextsArr = []\n",
        "while audio.size > 0:\n",
        "  tirmedAudio = whisper.pad_or_trim(audio)\n",
        "  # trimedArray.append(tirmedAudio)\n",
        "  startIdx = tirmedAudio.size\n",
        "  audio = audio[startIdx:]\n",
        "\n",
        "  # make log-Mel spectrogram and move to the same device as the model\n",
        "  mel = whisper.log_mel_spectrogram(tirmedAudio).to(model.device)\n",
        "\n",
        "  # detect the spoken language\n",
        "  _, probs = model.detect_language(mel)\n",
        "  # print(f\"Detected language: {max(probs, key=probs.get)}\")\n",
        "\n",
        "  # decode the audio\n",
        "  options = whisper.DecodingOptions()\n",
        "  result = whisper.decode(model, mel, options)\n",
        "\n",
        "  # print the recognized text\n",
        "  outputTextsArr.append(result.text)\n",
        "\n",
        "outputTexts = ' '.join(outputTextsArr)\n",
        "print(outputTexts)\n",
        "\n",
        "# Write into a text file\n",
        "with open(f\"download/{fileName}.txt\", \"w\") as f:\n",
        "  f.write(f\"▼ Transcription of {fileName}\\n\")\n",
        "  f.write(outputTexts)"
      ],
      "metadata": {
        "id": "gfRhV6OETlmP"
      },
      "execution_count": null,
      "outputs": []
    },
    {
      "cell_type": "code",
      "source": [
        "from google.colab import files\n",
        "\n",
        "!zip -r download.zip download\n",
        "files.download(\"download.zip\")"
      ],
      "metadata": {
        "id": "G7LPcZ8fUH31"
      },
      "execution_count": null,
      "outputs": []
    },
    {
      "cell_type": "code",
      "source": [
        "pip install srt\n",
        "pip install pysrt"
      ],
      "metadata": {
        "id": "sI5N6EmEHiIC"
      },
      "execution_count": null,
      "outputs": []
    },
    {
      "cell_type": "code",
      "source": [
        "import torch\n",
        "import whisper\n",
        "import os  #ファイル操作用\n",
        "\n",
        "from datetime import timedelta\n",
        "from srt import Subtitle\n",
        "import srt \n",
        "import pysrt\n",
        "\n",
        "filepath = f\"content/test.mp3\"\n",
        "lang = \"ja\" #音声ファイルの言語（ja=日本語）\n",
        "basename = os.path.splitext(os.path.basename(filepath))[0] #音声ファイルの名前（拡張子なし）\n",
        "model = whisper.load_model(\"small\") #モデルサイズの指定(上の表参照）\n",
        "\n",
        "#audioファイルを読み込む\n",
        "audio = whisper.load_audio(file=filepath)\n",
        "\n",
        "#音声認識\n",
        "result = model.transcribe(audio, verbose=True, language=lang)\n",
        "\n",
        "segments = result[\"segments\"]\n",
        "\n",
        "subs = []\n",
        "for data in segments:\n",
        "    index = data[\"id\"] + 1\n",
        "    start = data[\"start\"]\n",
        "    end = data[\"end\"]\n",
        "    text = data[\"text\"]\n",
        "\n",
        "    sub = Subtitle(\n",
        "        index = 1,\n",
        "        start = timedelta(seconds = timedelta(seconds=start).seconds, microseconds=timedelta(seconds=start).microseconds),\n",
        "        end = timedelta(seconds = timedelta(seconds=end).seconds, microseconds=timedelta(seconds=end).microseconds), \n",
        "        content=text, \n",
        "        proprietary=''\n",
        "        )\n",
        " \n",
        "    subs.append(sub)\n",
        "\n",
        "#格納した情報をSRTファイルとして書き出す\n",
        "with open(f\"{basename}.srt\", mode=\"w\", encoding=\"utf-8\") as f:\n",
        "    f.write(srt.compose(subs))\n",
        "\n",
        "#SRTファイルから必要な情報だけ取り出してtxtファイルで保存する\n",
        "subrip = pysrt.open(f\"{basename}.srt\")\n",
        "f_out = open(f\"{basename}.txt\", mode=\"w\", encoding=\"utf-8\")\n",
        "\n",
        "#テキスト（IDとタイムスタンプ無し）\n",
        "for sub in subrip:\n",
        "    f_out.write(sub.text + '\\n')\n",
        "    \n",
        "#タイムスタンプ、テキスト（ID無し）\n",
        "#for sub in subrip:\n",
        " #   f_out.write(str(sub.start) + ' --> ' + str(sub.end) + '\\n')\n",
        " #   f_out.write(sub.text + '\\n')"
      ],
      "metadata": {
        "id": "0PbTLp8SGT8Z"
      },
      "execution_count": null,
      "outputs": []
    }
  ]
}